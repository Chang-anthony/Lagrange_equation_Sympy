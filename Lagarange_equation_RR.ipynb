{
 "cells": [
  {
   "cell_type": "code",
   "execution_count": 3,
   "metadata": {},
   "outputs": [],
   "source": [
    "'''\n",
    "    Lagarange_equation_RR \n",
    "    anthor : anthony Create on  2022 10 01\n",
    "'''\n",
    "\n",
    "import sympy\n",
    "import math\n",
    "import numpy as np\n",
    "from Inertia_tensor_symbol import compute_dh_matrix,Inertia_tensor\n",
    "sympy.init_printing(use_latex='mathjax')\n",
    "from IPython.display import display"
   ]
  },
  {
   "cell_type": "code",
   "execution_count": 4,
   "metadata": {},
   "outputs": [],
   "source": [
    "#RR arm test\n",
    "#create some symbols discription \n",
    "n = 2\n",
    "pi = sympy.pi\n",
    "q = sympy.symbols(f'q1:{n+1}')#input angle\n",
    "qd = sympy.symbols(f'qd1:{n+1}')#input angle vel\n",
    "qdd = sympy.symbols(f'qdd1:{n+1}')#input angle acc\n",
    "mass = sympy.symbols(f'm1:{n+1}')\n",
    "g = sympy.Symbol('g')\n",
    "I1 = sympy.Symbol('I1')\n",
    "I2 = sympy.Symbol('I2')\n",
    "I = [I1,I2]"
   ]
  },
  {
   "cell_type": "code",
   "execution_count": 5,
   "metadata": {},
   "outputs": [
    {
     "data": {
      "text/latex": [
       "$\\displaystyle \\left[ \\left[\\begin{matrix}- \\sin{\\left(q_{1} \\right)} \\sin{\\left(q_{2} \\right)} + \\cos{\\left(q_{1} \\right)} \\cos{\\left(q_{2} \\right)} & - \\sin{\\left(q_{1} \\right)} \\cos{\\left(q_{2} \\right)} - \\sin{\\left(q_{2} \\right)} \\cos{\\left(q_{1} \\right)} & 0 & l_{1} \\cos{\\left(q_{1} \\right)}\\\\\\sin{\\left(q_{1} \\right)} \\cos{\\left(q_{2} \\right)} + \\sin{\\left(q_{2} \\right)} \\cos{\\left(q_{1} \\right)} & - \\sin{\\left(q_{1} \\right)} \\sin{\\left(q_{2} \\right)} + \\cos{\\left(q_{1} \\right)} \\cos{\\left(q_{2} \\right)} & 0 & l_{1} \\sin{\\left(q_{1} \\right)}\\\\0 & 0 & 1 & 0\\\\0 & 0 & 0 & 1\\end{matrix}\\right], \\  \\left[\\begin{matrix}- \\sin{\\left(q_{1} \\right)} \\sin{\\left(q_{2} \\right)} + \\cos{\\left(q_{1} \\right)} \\cos{\\left(q_{2} \\right)} & - \\sin{\\left(q_{1} \\right)} \\cos{\\left(q_{2} \\right)} - \\sin{\\left(q_{2} \\right)} \\cos{\\left(q_{1} \\right)} & 0 & l_{1} \\cos{\\left(q_{1} \\right)} + l_{2} \\left(- \\sin{\\left(q_{1} \\right)} \\sin{\\left(q_{2} \\right)} + \\cos{\\left(q_{1} \\right)} \\cos{\\left(q_{2} \\right)}\\right)\\\\\\sin{\\left(q_{1} \\right)} \\cos{\\left(q_{2} \\right)} + \\sin{\\left(q_{2} \\right)} \\cos{\\left(q_{1} \\right)} & - \\sin{\\left(q_{1} \\right)} \\sin{\\left(q_{2} \\right)} + \\cos{\\left(q_{1} \\right)} \\cos{\\left(q_{2} \\right)} & 0 & l_{1} \\sin{\\left(q_{1} \\right)} + l_{2} \\left(\\sin{\\left(q_{1} \\right)} \\cos{\\left(q_{2} \\right)} + \\sin{\\left(q_{2} \\right)} \\cos{\\left(q_{1} \\right)}\\right)\\\\0 & 0 & 1 & 0\\\\0 & 0 & 0 & 1\\end{matrix}\\right]\\right]$"
      ],
      "text/plain": [
       "⎡⎡-sin(q₁)⋅sin(q₂) + cos(q₁)⋅cos(q₂)  -sin(q₁)⋅cos(q₂) - sin(q₂)⋅cos(q₁)  0  l\n",
       "⎢⎢                                                                            \n",
       "⎢⎢sin(q₁)⋅cos(q₂) + sin(q₂)⋅cos(q₁)   -sin(q₁)⋅sin(q₂) + cos(q₁)⋅cos(q₂)  0  l\n",
       "⎢⎢                                                                            \n",
       "⎢⎢                0                                   0                   1   \n",
       "⎢⎢                                                                            \n",
       "⎣⎣                0                                   0                   0   \n",
       "\n",
       "₁⋅cos(q₁)⎤  ⎡-sin(q₁)⋅sin(q₂) + cos(q₁)⋅cos(q₂)  -sin(q₁)⋅cos(q₂) - sin(q₂)⋅co\n",
       "         ⎥  ⎢                                                                 \n",
       "₁⋅sin(q₁)⎥  ⎢sin(q₁)⋅cos(q₂) + sin(q₂)⋅cos(q₁)   -sin(q₁)⋅sin(q₂) + cos(q₁)⋅co\n",
       "         ⎥, ⎢                                                                 \n",
       "   0     ⎥  ⎢                0                                   0            \n",
       "         ⎥  ⎢                                                                 \n",
       "   1     ⎦  ⎣                0                                   0            \n",
       "\n",
       "s(q₁)  0  l₁⋅cos(q₁) + l₂⋅(-sin(q₁)⋅sin(q₂) + cos(q₁)⋅cos(q₂))⎤⎤\n",
       "                                                              ⎥⎥\n",
       "s(q₂)  0  l₁⋅sin(q₁) + l₂⋅(sin(q₁)⋅cos(q₂) + sin(q₂)⋅cos(q₁)) ⎥⎥\n",
       "                                                              ⎥⎥\n",
       "       1                           0                          ⎥⎥\n",
       "                                                              ⎥⎥\n",
       "       0                           1                          ⎦⎦"
      ]
     },
     "metadata": {},
     "output_type": "display_data"
    }
   ],
   "source": [
    "#create Transform matrix discription\n",
    "l1 = sympy.Symbol('l1')\n",
    "l2 = sympy.Symbol('l2')\n",
    "S = sympy.sin\n",
    "C = sympy.cos\n",
    "\n",
    "T1 = sympy.MutableDenseMatrix([[C(q[0]),-S(q[0]),0,0],\n",
    "                      [S(q[0]),C(q[0]),0,0],\n",
    "                      [0,0,1,0],\n",
    "                      [0,0,0,1]])\n",
    "T2 = sympy.MutableDenseMatrix([[C(q[1]),-S(q[1]),0,l1],\n",
    "                      [S(q[1]),C(q[1]),0,0],\n",
    "                      [0,0,1,0],\n",
    "                      [0,0,0,1]])\n",
    "\n",
    "T3 = sympy.MutableDenseMatrix([[1,0,0,l2],\n",
    "                                [0,1,0,0],\n",
    "                                [0,0,1,0],\n",
    "                                [0,0,0,1]])\n",
    "\n",
    "Ti = []\n",
    "Ti.append(T1 @ T2)\n",
    "Ti.append(T1 @ T2 @ T3)\n",
    "\n",
    "display(Ti)"
   ]
  },
  {
   "cell_type": "code",
   "execution_count": 8,
   "metadata": {},
   "outputs": [
    {
     "data": {
      "text/latex": [
       "$\\displaystyle \\left[\\begin{matrix}\\left[\\begin{matrix}0.0 & 0.0\\\\0.0 & 0.0\\\\1.0 & 0.0\\end{matrix}\\right] & \\left[\\begin{matrix}0 & 0\\\\0 & 0\\\\1 & 1\\end{matrix}\\right]\\end{matrix}\\right]$"
      ],
      "text/plain": [
       "⎡⎡ 0   0⎤  ⎡0  0⎤⎤\n",
       "⎢⎢      ⎥  ⎢    ⎥⎥\n",
       "⎢⎢ 0   0⎥  ⎢0  0⎥⎥\n",
       "⎢⎢      ⎥  ⎢    ⎥⎥\n",
       "⎣⎣1.0  0⎦  ⎣1  1⎦⎦"
      ]
     },
     "metadata": {},
     "output_type": "display_data"
    }
   ],
   "source": [
    "#angular velocity jacobian (Jw)\n",
    "Jw = sympy.MutableDenseNDimArray(np.zeros((n,3,n),dtype=np.float64))\n",
    "for i in range(n):\n",
    "    jw = sympy.MutableDenseNDimArray([0,0,1]).reshape(3,1)\n",
    "    for j in range(0,i):\n",
    "        #RR always ratate Zaxis\n",
    "        jw = np.hstack((jw,Ti[j][0:3,2]))\n",
    "    jw = np.hstack((jw,np.zeros((3,n-i))))\n",
    "    Jw[i,:,:] = jw\n",
    "\n",
    "display(Jw)"
   ]
  },
  {
   "cell_type": "code",
   "execution_count": 5,
   "metadata": {},
   "outputs": [
    {
     "data": {
      "text/latex": [
       "$\\displaystyle \\left[\\begin{matrix}\\left[\\begin{matrix}- l_{1} \\sin{\\left(q_{1} \\right)} & 0\\\\l_{1} \\cos{\\left(q_{1} \\right)} & 0\\\\0 & 0\\end{matrix}\\right] & \\left[\\begin{matrix}0.0 & 0.0\\\\0.0 & 0.0\\\\0.0 & 0.0\\end{matrix}\\right]\\end{matrix}\\right]$"
      ],
      "text/plain": [
       "⎡⎡-l₁⋅sin(q₁)  0⎤  ⎡0  0⎤⎤\n",
       "⎢⎢              ⎥  ⎢    ⎥⎥\n",
       "⎢⎢l₁⋅cos(q₁)   0⎥  ⎢0  0⎥⎥\n",
       "⎢⎢              ⎥  ⎢    ⎥⎥\n",
       "⎣⎣     0       0⎦  ⎣0  0⎦⎦"
      ]
     },
     "metadata": {},
     "output_type": "display_data"
    },
    {
     "data": {
      "text/latex": [
       "$\\displaystyle \\left[\\begin{matrix}\\left[\\begin{matrix}- l_{1} \\sin{\\left(q_{1} \\right)} & 0\\\\l_{1} \\cos{\\left(q_{1} \\right)} & 0\\\\0 & 0\\end{matrix}\\right] & \\left[\\begin{matrix}- l_{1} \\sin{\\left(q_{1} \\right)} - l_{2} \\sin{\\left(q_{1} + q_{2} \\right)} & - l_{2} \\sin{\\left(q_{1} + q_{2} \\right)}\\\\l_{1} \\cos{\\left(q_{1} \\right)} + l_{2} \\cos{\\left(q_{1} + q_{2} \\right)} & l_{2} \\cos{\\left(q_{1} + q_{2} \\right)}\\\\0 & 0\\end{matrix}\\right]\\end{matrix}\\right]$"
      ],
      "text/plain": [
       "⎡⎡-l₁⋅sin(q₁)  0⎤  ⎡-l₁⋅sin(q₁) - l₂⋅sin(q₁ + q₂)  -l₂⋅sin(q₁ + q₂)⎤⎤\n",
       "⎢⎢              ⎥  ⎢                                               ⎥⎥\n",
       "⎢⎢l₁⋅cos(q₁)   0⎥  ⎢l₁⋅cos(q₁) + l₂⋅cos(q₁ + q₂)   l₂⋅cos(q₁ + q₂) ⎥⎥\n",
       "⎢⎢              ⎥  ⎢                                               ⎥⎥\n",
       "⎣⎣     0       0⎦  ⎣              0                       0        ⎦⎦"
      ]
     },
     "metadata": {},
     "output_type": "display_data"
    }
   ],
   "source": [
    "#linear velocity jocobian  (Jv) \n",
    "cx = sympy.symbols(f'cx1:{n+1}')\n",
    "cy = sympy.symbols(f'cy1:{n+1}')\n",
    "cz = sympy.symbols(f'cz1:{n+1}')\n",
    "P = sympy.MutableDenseMatrix(np.eye(4,dtype=np.float64))\n",
    "\n",
    "Jv = sympy.MutableDenseNDimArray(np.zeros((n,3,n),dtype=np.float64))\n",
    "\n",
    "for i in range(n):\n",
    "    ''' \n",
    "        in this case Assume joint mass center on their transformer matrix position\n",
    "        if you center are not in this try below to clculate you center position on each joint\n",
    "        P = Ti[i][:,:] @ sympy.MutableDenseMatrix([[1,0,0,cx[i]],\n",
    "                                                [0,1,0,cy[i]],\n",
    "                                                [0,0,1,cz[i]],\n",
    "                                                [0,0,0,1]])\n",
    "\n",
    "    '''\n",
    "\n",
    "    P = Ti[i][:,:] \n",
    "    x = P[0,3]\n",
    "    y = P[1,3]\n",
    "    z = P[2,3]\n",
    "    for j in range(n):  \n",
    "        Jv[i,:,j] =  sympy.Array([sympy.diff(x,q[j]).simplify(),sympy.diff(y,q[j]).simplify(),sympy.diff(z,q[j]).simplify()])\n",
    "\n",
    "    display(Jv)"
   ]
  },
  {
   "cell_type": "code",
   "execution_count": 6,
   "metadata": {},
   "outputs": [
    {
     "data": {
      "text/latex": [
       "$\\displaystyle \\left[\\begin{matrix}1.0 I_{1} & 0\\\\0 & 0\\end{matrix}\\right]$"
      ],
      "text/plain": [
       "⎡1.0⋅I₁  0⎤\n",
       "⎢         ⎥\n",
       "⎣  0     0⎦"
      ]
     },
     "metadata": {},
     "output_type": "display_data"
    },
    {
     "data": {
      "text/latex": [
       "$\\displaystyle \\left[\\begin{matrix}I_{2} & I_{2}\\\\I_{2} & I_{2}\\end{matrix}\\right]$"
      ],
      "text/plain": [
       "⎡I₂  I₂⎤\n",
       "⎢      ⎥\n",
       "⎣I₂  I₂⎦"
      ]
     },
     "metadata": {},
     "output_type": "display_data"
    },
    {
     "data": {
      "text/latex": [
       "$\\displaystyle g l_{1} m_{1} \\sin{\\left(q_{1} \\right)} + g m_{2} \\left(l_{1} \\sin{\\left(q_{1} \\right)} + l_{2} \\left(\\sin{\\left(q_{1} \\right)} \\cos{\\left(q_{2} \\right)} + \\sin{\\left(q_{2} \\right)} \\cos{\\left(q_{1} \\right)}\\right)\\right)$"
      ],
      "text/plain": [
       "g⋅l₁⋅m₁⋅sin(q₁) + g⋅m₂⋅(l₁⋅sin(q₁) + l₂⋅(sin(q₁)⋅cos(q₂) + sin(q₂)⋅cos(q₁)))"
      ]
     },
     "metadata": {},
     "output_type": "display_data"
    },
    {
     "data": {
      "text/latex": [
       "$\\displaystyle \\left[ \\left[\\begin{matrix}m_{1} \\left(l_{1}^{2} \\sin^{2}{\\left(q_{1} \\right)} + l_{1}^{2} \\cos^{2}{\\left(q_{1} \\right)}\\right) & 0\\\\0 & 0\\end{matrix}\\right], \\  \\left[\\begin{matrix}m_{2} \\left(\\left(- l_{1} \\sin{\\left(q_{1} \\right)} - l_{2} \\sin{\\left(q_{1} + q_{2} \\right)}\\right)^{2} + \\left(l_{1} \\cos{\\left(q_{1} \\right)} + l_{2} \\cos{\\left(q_{1} + q_{2} \\right)}\\right)^{2}\\right) & m_{2} \\left(- l_{2} \\left(- l_{1} \\sin{\\left(q_{1} \\right)} - l_{2} \\sin{\\left(q_{1} + q_{2} \\right)}\\right) \\sin{\\left(q_{1} + q_{2} \\right)} + l_{2} \\left(l_{1} \\cos{\\left(q_{1} \\right)} + l_{2} \\cos{\\left(q_{1} + q_{2} \\right)}\\right) \\cos{\\left(q_{1} + q_{2} \\right)}\\right)\\\\m_{2} \\left(- l_{2} \\left(- l_{1} \\sin{\\left(q_{1} \\right)} - l_{2} \\sin{\\left(q_{1} + q_{2} \\right)}\\right) \\sin{\\left(q_{1} + q_{2} \\right)} + l_{2} \\left(l_{1} \\cos{\\left(q_{1} \\right)} + l_{2} \\cos{\\left(q_{1} + q_{2} \\right)}\\right) \\cos{\\left(q_{1} + q_{2} \\right)}\\right) & m_{2} \\left(l_{2}^{2} \\sin^{2}{\\left(q_{1} + q_{2} \\right)} + l_{2}^{2} \\cos^{2}{\\left(q_{1} + q_{2} \\right)}\\right)\\end{matrix}\\right]\\right]$"
      ],
      "text/plain": [
       "⎡⎡   ⎛  2    2         2    2    ⎞   ⎤  ⎡                  ⎛                  \n",
       "⎢⎢m₁⋅⎝l₁ ⋅sin (q₁) + l₁ ⋅cos (q₁)⎠  0⎥  ⎢               m₂⋅⎝(-l₁⋅sin(q₁) - l₂⋅\n",
       "⎢⎢                                   ⎥, ⎢                                     \n",
       "⎢⎣               0                  0⎦  ⎢                                     \n",
       "⎣                                       ⎣m₂⋅(-l₂⋅(-l₁⋅sin(q₁) - l₂⋅sin(q₁ + q₂\n",
       "\n",
       "             2                                 2⎞                             \n",
       "sin(q₁ + q₂))  + (l₁⋅cos(q₁) + l₂⋅cos(q₁ + q₂)) ⎠                  m₂⋅(-l₂⋅(-l\n",
       "                                                                              \n",
       "                                                                              \n",
       "))⋅sin(q₁ + q₂) + l₂⋅(l₁⋅cos(q₁) + l₂⋅cos(q₁ + q₂))⋅cos(q₁ + q₂))             \n",
       "\n",
       "                                                                              \n",
       "₁⋅sin(q₁) - l₂⋅sin(q₁ + q₂))⋅sin(q₁ + q₂) + l₂⋅(l₁⋅cos(q₁) + l₂⋅cos(q₁ + q₂))⋅\n",
       "                                                                              \n",
       "                      ⎛  2    2              2    2         ⎞                 \n",
       "                   m₂⋅⎝l₂ ⋅sin (q₁ + q₂) + l₂ ⋅cos (q₁ + q₂)⎠                 \n",
       "\n",
       "             ⎤⎤\n",
       "cos(q₁ + q₂))⎥⎥\n",
       "             ⎥⎥\n",
       "             ⎥⎥\n",
       "             ⎦⎦"
      ]
     },
     "metadata": {},
     "output_type": "display_data"
    },
    {
     "data": {
      "text/latex": [
       "$\\displaystyle \\left[\\begin{matrix}qd_{1} \\left(0.5 m_{2} qd_{2} \\left(- l_{2} \\left(- l_{1} \\sin{\\left(q_{1} \\right)} - l_{2} \\sin{\\left(q_{1} + q_{2} \\right)}\\right) \\sin{\\left(q_{1} + q_{2} \\right)} + l_{2} \\left(l_{1} \\cos{\\left(q_{1} \\right)} + l_{2} \\cos{\\left(q_{1} + q_{2} \\right)}\\right) \\cos{\\left(q_{1} + q_{2} \\right)}\\right) + 0.5 qd_{1} \\left(m_{1} \\left(l_{1}^{2} \\sin^{2}{\\left(q_{1} \\right)} + l_{1}^{2} \\cos^{2}{\\left(q_{1} \\right)}\\right) + m_{2} \\left(\\left(- l_{1} \\sin{\\left(q_{1} \\right)} - l_{2} \\sin{\\left(q_{1} + q_{2} \\right)}\\right)^{2} + \\left(l_{1} \\cos{\\left(q_{1} \\right)} + l_{2} \\cos{\\left(q_{1} + q_{2} \\right)}\\right)^{2}\\right)\\right)\\right) + qd_{2} \\left(0.5 m_{2} qd_{1} \\left(- l_{2} \\left(- l_{1} \\sin{\\left(q_{1} \\right)} - l_{2} \\sin{\\left(q_{1} + q_{2} \\right)}\\right) \\sin{\\left(q_{1} + q_{2} \\right)} + l_{2} \\left(l_{1} \\cos{\\left(q_{1} \\right)} + l_{2} \\cos{\\left(q_{1} + q_{2} \\right)}\\right) \\cos{\\left(q_{1} + q_{2} \\right)}\\right) + 0.5 m_{2} qd_{2} \\left(l_{2}^{2} \\sin^{2}{\\left(q_{1} + q_{2} \\right)} + l_{2}^{2} \\cos^{2}{\\left(q_{1} + q_{2} \\right)}\\right)\\right)\\end{matrix}\\right]$"
      ],
      "text/plain": [
       "⎡    ⎛                                                                        \n",
       "⎣qd₁⋅⎝0.5⋅m₂⋅qd₂⋅(-l₂⋅(-l₁⋅sin(q₁) - l₂⋅sin(q₁ + q₂))⋅sin(q₁ + q₂) + l₂⋅(l₁⋅co\n",
       "\n",
       "                                                 ⎛   ⎛  2    2         2    2 \n",
       "s(q₁) + l₂⋅cos(q₁ + q₂))⋅cos(q₁ + q₂)) + 0.5⋅qd₁⋅⎝m₁⋅⎝l₁ ⋅sin (q₁) + l₁ ⋅cos (\n",
       "\n",
       "   ⎞      ⎛                               2                                 2⎞\n",
       "q₁)⎠ + m₂⋅⎝(-l₁⋅sin(q₁) - l₂⋅sin(q₁ + q₂))  + (l₁⋅cos(q₁) + l₂⋅cos(q₁ + q₂)) ⎠\n",
       "\n",
       "⎞⎞       ⎛                                                                    \n",
       "⎠⎠ + qd₂⋅⎝0.5⋅m₂⋅qd₁⋅(-l₂⋅(-l₁⋅sin(q₁) - l₂⋅sin(q₁ + q₂))⋅sin(q₁ + q₂) + l₂⋅(l\n",
       "\n",
       "                                                        ⎛  2    2             \n",
       "₁⋅cos(q₁) + l₂⋅cos(q₁ + q₂))⋅cos(q₁ + q₂)) + 0.5⋅m₂⋅qd₂⋅⎝l₂ ⋅sin (q₁ + q₂) + l\n",
       "\n",
       " 2    2         ⎞⎞⎤\n",
       "₂ ⋅cos (q₁ + q₂)⎠⎠⎦"
      ]
     },
     "metadata": {},
     "output_type": "display_data"
    }
   ],
   "source": [
    "#Petential energy and Kentic energy and Mass martix M\n",
    "P = sympy.MutableDenseMatrix(np.eye(4,dtype=np.float64))\n",
    "PE = 0\n",
    "#M is Mass Matrix M  Ki is each joint Kentic energy\n",
    "M = sympy.MutableDenseMatrix(np.zeros((n,n),dtype = np.float64))\n",
    "Ki = []\n",
    "\n",
    "'''\n",
    "    in this case Assume not have Rotation Kentic energy\n",
    "    so Ki = mass[i] * Jv[i]' * Jv[i]\n",
    "    have Rotation Kentic energy the formula can be :\n",
    "    Ki = mass[i] * Jv[i]' * Jv[i] + I[i] * Jw[i]' * Jw[i]\n",
    "    Mass_Matrix = Sum(Ki)\n",
    "    KE = 0.5 * (qd' * Mass_Matrix * qd ) \n",
    "    in this case g is Assume on Yaxis g = [0,-9.8,0] \n",
    "    PE = sum(mass[i]* g * h)\n",
    "'''\n",
    "\n",
    "for i in range(n):\n",
    "    display( sympy.MutableDenseMatrix(I[i] * np.dot(Jw[i].transpose() ,Jw[i])))\n",
    "    M = M + (mass[i] * sympy.MutableDenseMatrix(np.dot(Jv[i].transpose(),Jv[i])))\n",
    "    Ki.append( mass[i] * sympy.MutableDenseMatrix(np.dot(Jv[i].transpose(),Jv[i])))\n",
    "\n",
    "    P = Ti[i][:,:] \n",
    "    PE = PE +  g * mass[i]* P[1,3] \n",
    "\n",
    "KE = (0.5 * sympy.MutableDenseMatrix(qd).transpose() @ M @ sympy.MutableDenseMatrix(qd))\n",
    "display(PE)\n",
    "display(Ki)\n",
    "display(KE)"
   ]
  },
  {
   "cell_type": "code",
   "execution_count": 7,
   "metadata": {},
   "outputs": [
    {
     "data": {
      "text/latex": [
       "$\\displaystyle \\left[\\begin{matrix}g \\left(l_{1} m_{1} \\cos{\\left(q_{1} \\right)} + m_{2} \\left(l_{1} \\cos{\\left(q_{1} \\right)} + l_{2} \\cos{\\left(q_{1} + q_{2} \\right)}\\right)\\right)\\\\g l_{2} m_{2} \\cos{\\left(q_{1} + q_{2} \\right)}\\end{matrix}\\right]$"
      ],
      "text/plain": [
       "⎡g⋅(l₁⋅m₁⋅cos(q₁) + m₂⋅(l₁⋅cos(q₁) + l₂⋅cos(q₁ + q₂)))⎤\n",
       "⎢                                                     ⎥\n",
       "⎣                g⋅l₂⋅m₂⋅cos(q₁ + q₂)                 ⎦"
      ]
     },
     "metadata": {},
     "output_type": "display_data"
    }
   ],
   "source": [
    "#gravity Matrix G(q)\n",
    "'''\n",
    "    gravity Matrix G(q) = diff(PE)/diff(q[i]) is n * 1 matrix\n",
    "'''\n",
    "G = sympy.MutableDenseMatrix(np.zeros((n,1),dtype=np.float64))\n",
    "for i in range(n):\n",
    "    G[i] = sympy.diff(PE,q[i]).simplify()\n",
    "\n",
    "display(G)"
   ]
  },
  {
   "cell_type": "code",
   "execution_count": 8,
   "metadata": {},
   "outputs": [
    {
     "data": {
      "text/latex": [
       "$\\displaystyle \\left[\\begin{matrix}- l_{1} l_{2} m_{2} qd_{2} \\sin{\\left(q_{2} \\right)} & - l_{1} l_{2} m_{2} \\left(qd_{1} + 1.0 qd_{2}\\right) \\sin{\\left(q_{2} \\right)}\\\\1.0 l_{1} l_{2} m_{2} qd_{1} \\sin{\\left(q_{2} \\right)} & 0\\end{matrix}\\right]$"
      ],
      "text/plain": [
       "⎡ -l₁⋅l₂⋅m₂⋅qd₂⋅sin(q₂)    -l₁⋅l₂⋅m₂⋅(qd₁ + 1.0⋅qd₂)⋅sin(q₂)⎤\n",
       "⎢                                                           ⎥\n",
       "⎣1.0⋅l₁⋅l₂⋅m₂⋅qd₁⋅sin(q₂)                  0                ⎦"
      ]
     },
     "metadata": {},
     "output_type": "display_data"
    },
    {
     "data": {
      "text/latex": [
       "$\\displaystyle \\left[\\begin{matrix}- l_{1} l_{2} m_{2} qd_{1} qd_{2} \\sin{\\left(q_{2} \\right)} - l_{1} l_{2} m_{2} qd_{2} \\left(qd_{1} + 1.0 qd_{2}\\right) \\sin{\\left(q_{2} \\right)}\\\\1.0 l_{1} l_{2} m_{2} qd_{1}^{2} \\sin{\\left(q_{2} \\right)}\\end{matrix}\\right]$"
      ],
      "text/plain": [
       "⎡-l₁⋅l₂⋅m₂⋅qd₁⋅qd₂⋅sin(q₂) - l₁⋅l₂⋅m₂⋅qd₂⋅(qd₁ + 1.0⋅qd₂)⋅sin(q₂)⎤\n",
       "⎢                                                                ⎥\n",
       "⎢                                   2                            ⎥\n",
       "⎣                   1.0⋅l₁⋅l₂⋅m₂⋅qd₁ ⋅sin(q₂)                    ⎦"
      ]
     },
     "metadata": {},
     "output_type": "display_data"
    }
   ],
   "source": [
    "#Christoffel symbol Matrix \n",
    "c = sympy.MutableDenseNDimArray(np.zeros((n,n,n),dtype=np.float64))\n",
    "for k in range(n):\n",
    "    for i in range(n):\n",
    "        for j in range(n):\n",
    "            c[i,j,k] = 0.5 * (sympy.diff(M[k,j],q[i]) + sympy.diff(M[k,i],q[j]) - sympy.diff(M[i,j],q[k]))\n",
    "\n",
    "\n",
    "C = sympy.MutableDenseMatrix(np.zeros((n,n),dtype=np.float64))\n",
    "for k in range(n):\n",
    "    for j in range(n):\n",
    "        temp = 0\n",
    "        for i in range(n):\n",
    "            temp = temp + c[i,j,k] * qd[i]\n",
    "        C[k,j] = temp.simplify()\n",
    "\n",
    "#this is C(q,qd) Matrix is n * n matrix\n",
    "display(C)\n",
    "#this is V(q,qd) Matrix is n * 1 matrix\n",
    "display(sympy.MutableDenseMatrix(np.dot(C,qd)))"
   ]
  },
  {
   "cell_type": "code",
   "execution_count": null,
   "metadata": {},
   "outputs": [],
   "source": []
  }
 ],
 "metadata": {
  "kernelspec": {
   "display_name": "Python 3.8.10 64-bit",
   "language": "python",
   "name": "python3"
  },
  "language_info": {
   "codemirror_mode": {
    "name": "ipython",
    "version": 3
   },
   "file_extension": ".py",
   "mimetype": "text/x-python",
   "name": "python",
   "nbconvert_exporter": "python",
   "pygments_lexer": "ipython3",
   "version": "3.8.10"
  },
  "orig_nbformat": 4,
  "vscode": {
   "interpreter": {
    "hash": "916dbcbb3f70747c44a77c7bcd40155683ae19c65e1c03b4aa3499c5328201f1"
   }
  }
 },
 "nbformat": 4,
 "nbformat_minor": 2
}
